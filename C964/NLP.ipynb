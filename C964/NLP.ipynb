{
 "cells": [
  {
   "cell_type": "code",
   "execution_count": 32,
   "id": "18b7a72c-b347-471f-b6b1-5b8954529a23",
   "metadata": {},
   "outputs": [
    {
     "name": "stderr",
     "output_type": "stream",
     "text": [
      "[nltk_data] Downloading package stopwords to\n",
      "[nltk_data]     C:\\Users\\cfloy\\AppData\\Roaming\\nltk_data...\n",
      "[nltk_data]   Package stopwords is already up-to-date!\n",
      "[nltk_data] Downloading package punkt to\n",
      "[nltk_data]     C:\\Users\\cfloy\\AppData\\Roaming\\nltk_data...\n",
      "[nltk_data]   Package punkt is already up-to-date!\n"
     ]
    },
    {
     "name": "stdout",
     "output_type": "stream",
     "text": [
      "Classification Report:\n",
      "               precision    recall  f1-score   support\n",
      "\n",
      "          no       0.60      1.00      0.75         6\n",
      "         yes       1.00      0.73      0.85        15\n",
      "\n",
      "    accuracy                           0.81        21\n",
      "   macro avg       0.80      0.87      0.80        21\n",
      "weighted avg       0.89      0.81      0.82        21\n",
      "\n"
     ]
    },
    {
     "data": {
      "image/png": "[encoded data removed]",
      "text/plain": [
       "<Figure size 640x480 with 2 Axes>"
      ]
     },
     "metadata": {},
     "output_type": "display_data"
    }
   ],
   "source": [
    "import nltk\n",
    "from nltk.corpus import stopwords\n",
    "nltk.download('stopwords')\n",
    "nltk.download('punkt')\n",
    "import pandas as pd\n",
    "import numpy as np\n",
    "import matplotlib.pyplot as plt\n",
    "from sklearn.feature_extraction.text import CountVectorizer\n",
    "from sklearn.feature_extraction.text import TfidfTransformer\n",
    "from sklearn.model_selection import train_test_split\n",
    "from sklearn.pipeline import Pipeline\n",
    "from sklearn.metrics import classification_report\n",
    "from sklearn.metrics import confusion_matrix, ConfusionMatrixDisplay\n",
    "from sklearn.svm import SVC\n",
    "from openpyxl.workbook import Workbook\n",
    "from pandasql import sqldf\n",
    "import pandasql as sql\n",
    "import string\n",
    "from IPython.display import FileLink\n",
    "import seaborn as sns\n",
    "%matplotlib inline\n",
    "\n",
    "# Train/Test Data\n",
    "colnames=['text', 'county', 'state', 'season', 'label']\n",
    "comments_df = pd.read_csv('comments_bf.csv', sep=\",\", names=colnames, skiprows=1)\n",
    "\n",
    "# Real Data\n",
    "bf_enc_df = pd.read_csv('BF_ENCOUNTER_INFO.csv')\n",
    "bf_colnames = ['ENC_ID', 'ENC_COMMENTS',\t'LOC_DEETS', 'ENC_COUNTY', 'NUM_ENC', 'ENC_STATE', 'STATE_ABRV', 'ENC_SEASON', 'FIPS']\n",
    "\n",
    "query = \"SELECT * FROM bf_enc_df WHERE STATE_ABRV = 'TN';\"\n",
    "\n",
    "state_df = sqldf(query)\n",
    "\n",
    "states = [ 'AK', 'AL', 'AR',\t 'AZ',\t 'CA',\t 'CO',\t 'CT',\t 'FL',\t 'GA',\t 'KY',\t 'MA',\t 'MD',\t 'OK',\t 'TN',\t 'VT']\n",
    "\n",
    "# Text Preprocessing\n",
    "def pre_proc(text):\n",
    "    rem_punc = [c for c in text if c not in string.punctuation]\n",
    "\n",
    "    rem_punc = ''.join(rem_punc)\n",
    "\n",
    "    return[w for w in rem_punc.split() if w.lower not in stopwords.words(\"english\")]\n",
    "\n",
    "cpp = comments_df['text'].apply(pre_proc)\n",
    "\n",
    "transformer = CountVectorizer(analyzer=pre_proc).fit(comments_df['text'])\n",
    "\n",
    "bow = transformer.transform(comments_df['text'])\n",
    "\n",
    "tfidf_transformer = TfidfTransformer().fit(bow)\n",
    "\n",
    "text_tfidf = tfidf_transformer.transform(bow)\n",
    "\n",
    "# Train/Test Model\n",
    "X_train, X_test, Y_train, Y_test = train_test_split(comments_df['text'], comments_df['label'], test_size=0.2, random_state=42)\n",
    "pline = Pipeline([\n",
    "    ('bow', CountVectorizer(analyzer=pre_proc)),\n",
    "    ('tfidf', TfidfTransformer()),\n",
    "    ('classifier', SVC(kernel='linear'))\n",
    "])\n",
    "\n",
    "pline.fit(X_train, Y_train)\n",
    "\n",
    "# for loop used for running application data in chunks as running all of the data at once causes Jupyter to crash\n",
    "'''for state in states:\n",
    "    query = \"SELECT * FROM bf_enc_df WHERE STATE_ABRV = \" +\"'\"+ state+\"'\" + \";\"\n",
    "\n",
    "    state_df = sqldf(query)\n",
    "\n",
    "    predictions = pline.predict(state_df['ENC_COMMENTS'])\n",
    "    print(state, predictions)\n",
    "    state_df['confirmed_sighting'] = predictions\n",
    "\n",
    "    state_df.to_excel('pred_'+state+'.xlsx', index=False)'''\n",
    "\n",
    "predictions = pline.predict(X_test)\n",
    "print(\"Classification Report:\\n\",classification_report(predictions, Y_test))\n",
    "\n",
    "ConfusionMatrixDisplay.from_predictions(Y_test, predictions)\n",
    "\n",
    "plt.show()"
   ]
  },
  {
   "cell_type": "code",
   "execution_count": null,
   "id": "eb8711ce-d292-44ba-a34b-5142842eb723",
   "metadata": {},
   "outputs": [],
   "source": []
  }
 ],
 "metadata": {
  "kernelspec": {
   "display_name": "Python 3 (ipykernel)",
   "language": "python",
   "name": "python3"
  },
  "language_info": {
   "codemirror_mode": {
    "name": "ipython",
    "version": 3
   },
   "file_extension": ".py",
   "mimetype": "text/x-python",
   "name": "python",
   "nbconvert_exporter": "python",
   "pygments_lexer": "ipython3",
   "version": "3.12.1"
  }
 },
 "nbformat": 4,
 "nbformat_minor": 5
}
